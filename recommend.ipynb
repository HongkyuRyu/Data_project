{
 "cells": [
  {
   "cell_type": "code",
   "execution_count": 1,
   "metadata": {
    "collapsed": true
   },
   "outputs": [],
   "source": [
    "import pandas as pd\n",
    "import numpy as np"
   ]
  },
  {
   "cell_type": "markdown",
   "source": [
    "### 평점 기반 추천 시스템"
   ],
   "metadata": {
    "collapsed": false
   }
  },
  {
   "cell_type": "code",
   "execution_count": 2,
   "outputs": [
    {
     "data": {
      "text/plain": "(20, 8)"
     },
     "execution_count": 2,
     "metadata": {},
     "output_type": "execute_result"
    }
   ],
   "source": [
    "movies = pd.read_csv(\"movie.csv\")\n",
    "movies.shape"
   ],
   "metadata": {
    "collapsed": false
   }
  },
  {
   "cell_type": "code",
   "execution_count": 5,
   "outputs": [],
   "source": [
    "movies.drop(['preview_picture', 'streamingurl'], axis=1, inplace=True)"
   ],
   "metadata": {
    "collapsed": false
   }
  },
  {
   "cell_type": "code",
   "execution_count": 6,
   "outputs": [
    {
     "data": {
      "text/plain": "   movie_id  average_rating  \\\n0         1             2.3   \n1         2             0.0   \n2         3             1.4   \n3         4             0.0   \n4         5             0.0   \n\n                                         description genre          title  \\\n0  꿈을 꾸는 사람들을 위한 별들의 도시 '라라랜드'. 재즈 피아니스트 '세바스찬'(라...   로맨스           라라랜드   \n1  자신의 인생을 바꿔줄 운명적인 사랑이 나타날 것이라 믿는 순수청년 ‘톰’, 어느날 ...   로맨스       500일의 썸머   \n2  언제 어디서든 바른 생활! 완벽한 천재 뮤지션 돈 셜리 원칙보다 반칙! 다혈질 운전...   드라마           그린 북   \n3  죽을 날이 머지않은 황제 마르쿠스 아우렐리우스는 막시무스를 총애하여 아들이 아닌 그...    액션         글래디에이터   \n4  총격전이 벌어진 끔찍한 현장에서 르웰린 모스(조슈 브롤린)는 우연히 이백만 달러가 ...   스릴러  노인을 위한 나라는 없다   \n\n   user_id  \n0        1  \n1        1  \n2        1  \n3        1  \n4        1  ",
      "text/html": "<div>\n<style scoped>\n    .dataframe tbody tr th:only-of-type {\n        vertical-align: middle;\n    }\n\n    .dataframe tbody tr th {\n        vertical-align: top;\n    }\n\n    .dataframe thead th {\n        text-align: right;\n    }\n</style>\n<table border=\"1\" class=\"dataframe\">\n  <thead>\n    <tr style=\"text-align: right;\">\n      <th></th>\n      <th>movie_id</th>\n      <th>average_rating</th>\n      <th>description</th>\n      <th>genre</th>\n      <th>title</th>\n      <th>user_id</th>\n    </tr>\n  </thead>\n  <tbody>\n    <tr>\n      <th>0</th>\n      <td>1</td>\n      <td>2.3</td>\n      <td>꿈을 꾸는 사람들을 위한 별들의 도시 '라라랜드'. 재즈 피아니스트 '세바스찬'(라...</td>\n      <td>로맨스</td>\n      <td>라라랜드</td>\n      <td>1</td>\n    </tr>\n    <tr>\n      <th>1</th>\n      <td>2</td>\n      <td>0.0</td>\n      <td>자신의 인생을 바꿔줄 운명적인 사랑이 나타날 것이라 믿는 순수청년 ‘톰’, 어느날 ...</td>\n      <td>로맨스</td>\n      <td>500일의 썸머</td>\n      <td>1</td>\n    </tr>\n    <tr>\n      <th>2</th>\n      <td>3</td>\n      <td>1.4</td>\n      <td>언제 어디서든 바른 생활! 완벽한 천재 뮤지션 돈 셜리 원칙보다 반칙! 다혈질 운전...</td>\n      <td>드라마</td>\n      <td>그린 북</td>\n      <td>1</td>\n    </tr>\n    <tr>\n      <th>3</th>\n      <td>4</td>\n      <td>0.0</td>\n      <td>죽을 날이 머지않은 황제 마르쿠스 아우렐리우스는 막시무스를 총애하여 아들이 아닌 그...</td>\n      <td>액션</td>\n      <td>글래디에이터</td>\n      <td>1</td>\n    </tr>\n    <tr>\n      <th>4</th>\n      <td>5</td>\n      <td>0.0</td>\n      <td>총격전이 벌어진 끔찍한 현장에서 르웰린 모스(조슈 브롤린)는 우연히 이백만 달러가 ...</td>\n      <td>스릴러</td>\n      <td>노인을 위한 나라는 없다</td>\n      <td>1</td>\n    </tr>\n  </tbody>\n</table>\n</div>"
     },
     "execution_count": 6,
     "metadata": {},
     "output_type": "execute_result"
    }
   ],
   "source": [
    "movies.head()"
   ],
   "metadata": {
    "collapsed": false
   }
  },
  {
   "cell_type": "code",
   "execution_count": 7,
   "outputs": [
    {
     "name": "stdout",
     "output_type": "stream",
     "text": [
      "(20, 12)\n"
     ]
    }
   ],
   "source": [
    "from sklearn.feature_extraction.text import CountVectorizer\n",
    "\n",
    "count_vect = CountVectorizer(min_df=0, ngram_range=(1, 2))\n",
    "genre_mat = count_vect.fit_transform(movies['genre'])\n",
    "print(genre_mat.shape)"
   ],
   "metadata": {
    "collapsed": false
   }
  },
  {
   "cell_type": "code",
   "execution_count": 8,
   "outputs": [
    {
     "name": "stdout",
     "output_type": "stream",
     "text": [
      "(20, 20)\n",
      "[[1. 1. 0. 0. 0. 0. 0. 0. 0. 0. 0. 0. 0. 0. 0. 0. 0. 0. 0. 1.]\n",
      " [1. 1. 0. 0. 0. 0. 0. 0. 0. 0. 0. 0. 0. 0. 0. 0. 0. 0. 0. 1.]]\n"
     ]
    }
   ],
   "source": [
    "from sklearn.metrics.pairwise import cosine_similarity\n",
    "genre_sim = cosine_similarity(genre_mat, genre_mat)\n",
    "print(genre_sim.shape)\n",
    "print(genre_sim[:2])"
   ],
   "metadata": {
    "collapsed": false
   }
  },
  {
   "cell_type": "code",
   "execution_count": 9,
   "outputs": [
    {
     "name": "stdout",
     "output_type": "stream",
     "text": [
      "[[19  1  0 16  7 17  2  3  4  5  6  8 15 18 10 11 12 13 14  9]]\n"
     ]
    }
   ],
   "source": [
    "genre_sim_sorted_ind = genre_sim.argsort()[:, ::-1]\n",
    "print(genre_sim_sorted_ind[:1])"
   ],
   "metadata": {
    "collapsed": false
   }
  },
  {
   "cell_type": "code",
   "execution_count": 11,
   "outputs": [
    {
     "data": {
      "text/plain": "Index(['movie_id', 'average_rating', 'description', 'genre', 'title',\n       'user_id'],\n      dtype='object')"
     },
     "execution_count": 11,
     "metadata": {},
     "output_type": "execute_result"
    }
   ],
   "source": [
    "movies.columns"
   ],
   "metadata": {
    "collapsed": false
   }
  },
  {
   "cell_type": "code",
   "execution_count": 12,
   "outputs": [
    {
     "name": "stdout",
     "output_type": "stream",
     "text": [
      "[[19  1  0 16  7 17  2  3  4  5]]\n"
     ]
    },
    {
     "data": {
      "text/plain": "            title  average_rating\n19           타이타닉           2.625\n1        500일의 썸머           0.000\n0            라라랜드           2.300\n16      슬럼독 밀리어네어           3.000\n7           다이 하드           0.000\n17           아이언맨           0.500\n2            그린 북           1.400\n3          글래디에이터           0.000\n4   노인을 위한 나라는 없다           0.000\n5            노팅 힐           5.000",
      "text/html": "<div>\n<style scoped>\n    .dataframe tbody tr th:only-of-type {\n        vertical-align: middle;\n    }\n\n    .dataframe tbody tr th {\n        vertical-align: top;\n    }\n\n    .dataframe thead th {\n        text-align: right;\n    }\n</style>\n<table border=\"1\" class=\"dataframe\">\n  <thead>\n    <tr style=\"text-align: right;\">\n      <th></th>\n      <th>title</th>\n      <th>average_rating</th>\n    </tr>\n  </thead>\n  <tbody>\n    <tr>\n      <th>19</th>\n      <td>타이타닉</td>\n      <td>2.625</td>\n    </tr>\n    <tr>\n      <th>1</th>\n      <td>500일의 썸머</td>\n      <td>0.000</td>\n    </tr>\n    <tr>\n      <th>0</th>\n      <td>라라랜드</td>\n      <td>2.300</td>\n    </tr>\n    <tr>\n      <th>16</th>\n      <td>슬럼독 밀리어네어</td>\n      <td>3.000</td>\n    </tr>\n    <tr>\n      <th>7</th>\n      <td>다이 하드</td>\n      <td>0.000</td>\n    </tr>\n    <tr>\n      <th>17</th>\n      <td>아이언맨</td>\n      <td>0.500</td>\n    </tr>\n    <tr>\n      <th>2</th>\n      <td>그린 북</td>\n      <td>1.400</td>\n    </tr>\n    <tr>\n      <th>3</th>\n      <td>글래디에이터</td>\n      <td>0.000</td>\n    </tr>\n    <tr>\n      <th>4</th>\n      <td>노인을 위한 나라는 없다</td>\n      <td>0.000</td>\n    </tr>\n    <tr>\n      <th>5</th>\n      <td>노팅 힐</td>\n      <td>5.000</td>\n    </tr>\n  </tbody>\n</table>\n</div>"
     },
     "execution_count": 12,
     "metadata": {},
     "output_type": "execute_result"
    }
   ],
   "source": [
    "def find_sim_movie(df, sorted_ind, title_name, top_n=10):\n",
    "    title_movie = df[df['title'] == title_name]\n",
    "    title_index = title_movie.index.values\n",
    "    similar_indexes = sorted_ind[title_index, :(top_n)]\n",
    "\n",
    "    print(similar_indexes)\n",
    "    similar_indexes = similar_indexes.reshape(-1)\n",
    "    return df.iloc[similar_indexes]\n",
    "\n",
    "similar_movies = find_sim_movie(movies, genre_sim_sorted_ind, \"라라랜드\", 10)\n",
    "similar_movies[['title', 'average_rating']]"
   ],
   "metadata": {
    "collapsed": false
   }
  },
  {
   "cell_type": "markdown",
   "source": [
    "### 아이템 기반 추천시스템"
   ],
   "metadata": {
    "collapsed": false
   }
  },
  {
   "cell_type": "code",
   "execution_count": 13,
   "outputs": [
    {
     "data": {
      "text/plain": "((20, 8), (28, 4))"
     },
     "execution_count": 13,
     "metadata": {},
     "output_type": "execute_result"
    }
   ],
   "source": [
    "import pandas as pd\n",
    "\n",
    "movies = pd.read_csv(\"movie.csv\")\n",
    "ratings = pd.read_csv(\"rating.csv\")\n",
    "movies.shape, ratings.shape"
   ],
   "metadata": {
    "collapsed": false
   }
  },
  {
   "cell_type": "code",
   "execution_count": 16,
   "outputs": [],
   "source": [
    "drop_cols = ['average_rating', 'description', 'preview_picture', 'streamingurl', 'user_id']\n",
    "movies.drop(drop_cols, axis=1, inplace=True)"
   ],
   "metadata": {
    "collapsed": false
   }
  },
  {
   "cell_type": "code",
   "execution_count": 17,
   "outputs": [
    {
     "data": {
      "text/plain": "   movie_id genre          title\n0         1   로맨스           라라랜드\n1         2   로맨스       500일의 썸머\n2         3   드라마           그린 북\n3         4    액션         글래디에이터\n4         5   스릴러  노인을 위한 나라는 없다",
      "text/html": "<div>\n<style scoped>\n    .dataframe tbody tr th:only-of-type {\n        vertical-align: middle;\n    }\n\n    .dataframe tbody tr th {\n        vertical-align: top;\n    }\n\n    .dataframe thead th {\n        text-align: right;\n    }\n</style>\n<table border=\"1\" class=\"dataframe\">\n  <thead>\n    <tr style=\"text-align: right;\">\n      <th></th>\n      <th>movie_id</th>\n      <th>genre</th>\n      <th>title</th>\n    </tr>\n  </thead>\n  <tbody>\n    <tr>\n      <th>0</th>\n      <td>1</td>\n      <td>로맨스</td>\n      <td>라라랜드</td>\n    </tr>\n    <tr>\n      <th>1</th>\n      <td>2</td>\n      <td>로맨스</td>\n      <td>500일의 썸머</td>\n    </tr>\n    <tr>\n      <th>2</th>\n      <td>3</td>\n      <td>드라마</td>\n      <td>그린 북</td>\n    </tr>\n    <tr>\n      <th>3</th>\n      <td>4</td>\n      <td>액션</td>\n      <td>글래디에이터</td>\n    </tr>\n    <tr>\n      <th>4</th>\n      <td>5</td>\n      <td>스릴러</td>\n      <td>노인을 위한 나라는 없다</td>\n    </tr>\n  </tbody>\n</table>\n</div>"
     },
     "execution_count": 17,
     "metadata": {},
     "output_type": "execute_result"
    }
   ],
   "source": [
    "movies.head()"
   ],
   "metadata": {
    "collapsed": false
   }
  },
  {
   "cell_type": "code",
   "execution_count": 18,
   "outputs": [],
   "source": [
    "ratings.drop(['id'], axis=1, inplace=True)"
   ],
   "metadata": {
    "collapsed": false
   }
  },
  {
   "cell_type": "code",
   "execution_count": 19,
   "outputs": [
    {
     "data": {
      "text/plain": "   movie_id  rating  user_id\n0         1     5.0        1\n1         1     5.0        4\n2         7     5.0        4\n3         1     0.5        1\n4         1     0.5        1",
      "text/html": "<div>\n<style scoped>\n    .dataframe tbody tr th:only-of-type {\n        vertical-align: middle;\n    }\n\n    .dataframe tbody tr th {\n        vertical-align: top;\n    }\n\n    .dataframe thead th {\n        text-align: right;\n    }\n</style>\n<table border=\"1\" class=\"dataframe\">\n  <thead>\n    <tr style=\"text-align: right;\">\n      <th></th>\n      <th>movie_id</th>\n      <th>rating</th>\n      <th>user_id</th>\n    </tr>\n  </thead>\n  <tbody>\n    <tr>\n      <th>0</th>\n      <td>1</td>\n      <td>5.0</td>\n      <td>1</td>\n    </tr>\n    <tr>\n      <th>1</th>\n      <td>1</td>\n      <td>5.0</td>\n      <td>4</td>\n    </tr>\n    <tr>\n      <th>2</th>\n      <td>7</td>\n      <td>5.0</td>\n      <td>4</td>\n    </tr>\n    <tr>\n      <th>3</th>\n      <td>1</td>\n      <td>0.5</td>\n      <td>1</td>\n    </tr>\n    <tr>\n      <th>4</th>\n      <td>1</td>\n      <td>0.5</td>\n      <td>1</td>\n    </tr>\n  </tbody>\n</table>\n</div>"
     },
     "execution_count": 19,
     "metadata": {},
     "output_type": "execute_result"
    }
   ],
   "source": [
    "ratings.head()"
   ],
   "metadata": {
    "collapsed": false
   }
  },
  {
   "cell_type": "code",
   "execution_count": 29,
   "outputs": [
    {
     "name": "stdout",
     "output_type": "stream",
     "text": [
      "고유 아이디 수:  6\n",
      "영화의 개수:  10\n"
     ]
    }
   ],
   "source": [
    "print(\"고유 아이디 수: \", len(ratings['user_id'].unique()))\n",
    "print(\"영화의 개수: \", len(ratings['movie_id'].unique()))"
   ],
   "metadata": {
    "collapsed": false
   }
  },
  {
   "cell_type": "code",
   "execution_count": 33,
   "outputs": [
    {
     "data": {
      "text/plain": "<AxesSubplot: xlabel='movie_id', ylabel='rating'>"
     },
     "execution_count": 33,
     "metadata": {},
     "output_type": "execute_result"
    },
    {
     "data": {
      "text/plain": "<Figure size 640x480 with 1 Axes>",
      "image/png": "[encoded data removed]"
     },
     "metadata": {},
     "output_type": "display_data"
    }
   ],
   "source": [
    "# 영화 점수 분포 시각화\n",
    "import seaborn as sns\n",
    "import matplotlib.pyplot as plt\n",
    "sns.barplot(y = ratings['rating'], x= ratings['movie_id'])\n",
    "# object_cnt = ratings['rating'].value_counts()\n",
    "# for x,y,z in zip(object_cnt.index, object_cnt.values, object_cnt.values/object_cnt.sum()*100):\n",
    "#     plt.annotate(f\"{y}\\n({round(z,2)}%)\", xy=(x-1,y+70), textcoords=\"data\", ha=\"center\")\n",
    "\n"
   ],
   "metadata": {
    "collapsed": false
   }
  },
  {
   "cell_type": "code",
   "execution_count": null,
   "outputs": [],
   "source": [],
   "metadata": {
    "collapsed": false
   }
  },
  {
   "cell_type": "code",
   "execution_count": 20,
   "outputs": [
    {
     "data": {
      "text/plain": "   movie_id  rating  user_id genre title\n0         1     5.0        1   로맨스  라라랜드\n1         1     5.0        4   로맨스  라라랜드\n2         1     0.5        1   로맨스  라라랜드\n3         1     0.5        1   로맨스  라라랜드\n4         1     0.5        1   로맨스  라라랜드",
      "text/html": "<div>\n<style scoped>\n    .dataframe tbody tr th:only-of-type {\n        vertical-align: middle;\n    }\n\n    .dataframe tbody tr th {\n        vertical-align: top;\n    }\n\n    .dataframe thead th {\n        text-align: right;\n    }\n</style>\n<table border=\"1\" class=\"dataframe\">\n  <thead>\n    <tr style=\"text-align: right;\">\n      <th></th>\n      <th>movie_id</th>\n      <th>rating</th>\n      <th>user_id</th>\n      <th>genre</th>\n      <th>title</th>\n    </tr>\n  </thead>\n  <tbody>\n    <tr>\n      <th>0</th>\n      <td>1</td>\n      <td>5.0</td>\n      <td>1</td>\n      <td>로맨스</td>\n      <td>라라랜드</td>\n    </tr>\n    <tr>\n      <th>1</th>\n      <td>1</td>\n      <td>5.0</td>\n      <td>4</td>\n      <td>로맨스</td>\n      <td>라라랜드</td>\n    </tr>\n    <tr>\n      <th>2</th>\n      <td>1</td>\n      <td>0.5</td>\n      <td>1</td>\n      <td>로맨스</td>\n      <td>라라랜드</td>\n    </tr>\n    <tr>\n      <th>3</th>\n      <td>1</td>\n      <td>0.5</td>\n      <td>1</td>\n      <td>로맨스</td>\n      <td>라라랜드</td>\n    </tr>\n    <tr>\n      <th>4</th>\n      <td>1</td>\n      <td>0.5</td>\n      <td>1</td>\n      <td>로맨스</td>\n      <td>라라랜드</td>\n    </tr>\n  </tbody>\n</table>\n</div>"
     },
     "execution_count": 20,
     "metadata": {},
     "output_type": "execute_result"
    }
   ],
   "source": [
    "# movie_id 기준으로 결합\n",
    "ratings_movies = pd.merge(ratings, movies, on='movie_id')\n",
    "ratings_movies.head()"
   ],
   "metadata": {
    "collapsed": false
   }
  },
  {
   "cell_type": "code",
   "execution_count": 21,
   "outputs": [
    {
     "data": {
      "text/plain": "title    그린 북  노팅 힐   라라랜드   레옹  매드 맥스 분노의 도로  매트릭스  슬럼독 밀리어네어  아이언맨   존 윅  \\\nuser_id                                                                      \n1         0.5   0.0  1.625  0.0           0.5   0.0        0.0   0.5  0.75   \n4         0.0   5.0  5.000  0.0           0.0   5.0        0.0   0.0  0.00   \n8         5.0   0.0  0.000  0.0           0.0   0.0        0.0   0.0  0.00   \n9         0.0   0.0  0.000  0.0           0.0   5.0        0.0   0.0  0.00   \n18        0.0   0.0  0.000  3.5           0.0   0.0        0.0   0.5  0.00   \n\ntitle        타이타닉  \nuser_id            \n1        2.285714  \n4        0.000000  \n8        0.000000  \n9        0.000000  \n18       0.000000  ",
      "text/html": "<div>\n<style scoped>\n    .dataframe tbody tr th:only-of-type {\n        vertical-align: middle;\n    }\n\n    .dataframe tbody tr th {\n        vertical-align: top;\n    }\n\n    .dataframe thead th {\n        text-align: right;\n    }\n</style>\n<table border=\"1\" class=\"dataframe\">\n  <thead>\n    <tr style=\"text-align: right;\">\n      <th>title</th>\n      <th>그린 북</th>\n      <th>노팅 힐</th>\n      <th>라라랜드</th>\n      <th>레옹</th>\n      <th>매드 맥스 분노의 도로</th>\n      <th>매트릭스</th>\n      <th>슬럼독 밀리어네어</th>\n      <th>아이언맨</th>\n      <th>존 윅</th>\n      <th>타이타닉</th>\n    </tr>\n    <tr>\n      <th>user_id</th>\n      <th></th>\n      <th></th>\n      <th></th>\n      <th></th>\n      <th></th>\n      <th></th>\n      <th></th>\n      <th></th>\n      <th></th>\n      <th></th>\n    </tr>\n  </thead>\n  <tbody>\n    <tr>\n      <th>1</th>\n      <td>0.5</td>\n      <td>0.0</td>\n      <td>1.625</td>\n      <td>0.0</td>\n      <td>0.5</td>\n      <td>0.0</td>\n      <td>0.0</td>\n      <td>0.5</td>\n      <td>0.75</td>\n      <td>2.285714</td>\n    </tr>\n    <tr>\n      <th>4</th>\n      <td>0.0</td>\n      <td>5.0</td>\n      <td>5.000</td>\n      <td>0.0</td>\n      <td>0.0</td>\n      <td>5.0</td>\n      <td>0.0</td>\n      <td>0.0</td>\n      <td>0.00</td>\n      <td>0.000000</td>\n    </tr>\n    <tr>\n      <th>8</th>\n      <td>5.0</td>\n      <td>0.0</td>\n      <td>0.000</td>\n      <td>0.0</td>\n      <td>0.0</td>\n      <td>0.0</td>\n      <td>0.0</td>\n      <td>0.0</td>\n      <td>0.00</td>\n      <td>0.000000</td>\n    </tr>\n    <tr>\n      <th>9</th>\n      <td>0.0</td>\n      <td>0.0</td>\n      <td>0.000</td>\n      <td>0.0</td>\n      <td>0.0</td>\n      <td>5.0</td>\n      <td>0.0</td>\n      <td>0.0</td>\n      <td>0.00</td>\n      <td>0.000000</td>\n    </tr>\n    <tr>\n      <th>18</th>\n      <td>0.0</td>\n      <td>0.0</td>\n      <td>0.000</td>\n      <td>3.5</td>\n      <td>0.0</td>\n      <td>0.0</td>\n      <td>0.0</td>\n      <td>0.5</td>\n      <td>0.00</td>\n      <td>0.000000</td>\n    </tr>\n  </tbody>\n</table>\n</div>"
     },
     "execution_count": 21,
     "metadata": {},
     "output_type": "execute_result"
    }
   ],
   "source": [
    "ratings_matrix = ratings_movies.pivot_table('rating', index='user_id', columns='title')\n",
    "ratings_matrix.fillna(0, inplace=True)\n",
    "ratings_matrix.head()"
   ],
   "metadata": {
    "collapsed": false
   }
  },
  {
   "cell_type": "code",
   "execution_count": 22,
   "outputs": [
    {
     "data": {
      "text/plain": "user_id          1    4    8    9    18   20\ntitle                                       \n그린 북          0.500  0.0  5.0  0.0  0.0  0.0\n노팅 힐          0.000  5.0  0.0  0.0  0.0  0.0\n라라랜드          1.625  5.0  0.0  0.0  0.0  0.0\n레옹            0.000  0.0  0.0  0.0  3.5  0.0\n매드 맥스 분노의 도로  0.500  0.0  0.0  0.0  0.0  0.0",
      "text/html": "<div>\n<style scoped>\n    .dataframe tbody tr th:only-of-type {\n        vertical-align: middle;\n    }\n\n    .dataframe tbody tr th {\n        vertical-align: top;\n    }\n\n    .dataframe thead th {\n        text-align: right;\n    }\n</style>\n<table border=\"1\" class=\"dataframe\">\n  <thead>\n    <tr style=\"text-align: right;\">\n      <th>user_id</th>\n      <th>1</th>\n      <th>4</th>\n      <th>8</th>\n      <th>9</th>\n      <th>18</th>\n      <th>20</th>\n    </tr>\n    <tr>\n      <th>title</th>\n      <th></th>\n      <th></th>\n      <th></th>\n      <th></th>\n      <th></th>\n      <th></th>\n    </tr>\n  </thead>\n  <tbody>\n    <tr>\n      <th>그린 북</th>\n      <td>0.500</td>\n      <td>0.0</td>\n      <td>5.0</td>\n      <td>0.0</td>\n      <td>0.0</td>\n      <td>0.0</td>\n    </tr>\n    <tr>\n      <th>노팅 힐</th>\n      <td>0.000</td>\n      <td>5.0</td>\n      <td>0.0</td>\n      <td>0.0</td>\n      <td>0.0</td>\n      <td>0.0</td>\n    </tr>\n    <tr>\n      <th>라라랜드</th>\n      <td>1.625</td>\n      <td>5.0</td>\n      <td>0.0</td>\n      <td>0.0</td>\n      <td>0.0</td>\n      <td>0.0</td>\n    </tr>\n    <tr>\n      <th>레옹</th>\n      <td>0.000</td>\n      <td>0.0</td>\n      <td>0.0</td>\n      <td>0.0</td>\n      <td>3.5</td>\n      <td>0.0</td>\n    </tr>\n    <tr>\n      <th>매드 맥스 분노의 도로</th>\n      <td>0.500</td>\n      <td>0.0</td>\n      <td>0.0</td>\n      <td>0.0</td>\n      <td>0.0</td>\n      <td>0.0</td>\n    </tr>\n  </tbody>\n</table>\n</div>"
     },
     "execution_count": 22,
     "metadata": {},
     "output_type": "execute_result"
    }
   ],
   "source": [
    "# 유사도 측정을 위한 Transpose\n",
    "ratings_matrix_T = ratings_matrix.transpose()\n",
    "ratings_matrix_T.head()"
   ],
   "metadata": {
    "collapsed": false
   }
  },
  {
   "cell_type": "code",
   "execution_count": 23,
   "outputs": [
    {
     "name": "stdout",
     "output_type": "stream",
     "text": [
      "(10, 10)\n"
     ]
    },
    {
     "data": {
      "text/plain": "title             그린 북      노팅 힐      라라랜드   레옹  매드 맥스 분노의 도로      매트릭스  \\\ntitle                                                                     \n그린 북          1.000000  0.000000  0.030755  0.0      0.099504  0.000000   \n노팅 힐          0.000000  1.000000  0.951034  0.0      0.000000  0.707107   \n라라랜드          0.030755  0.951034  1.000000  0.0      0.309086  0.672483   \n레옹            0.000000  0.000000  0.000000  1.0      0.000000  0.000000   \n매드 맥스 분노의 도로  0.099504  0.000000  0.309086  0.0      1.000000  0.000000   \n\ntitle         슬럼독 밀리어네어      아이언맨       존 윅      타이타닉  \ntitle                                                  \n그린 북                0.0  0.070360  0.099504  0.041370  \n노팅 힐                0.0  0.000000  0.000000  0.000000  \n라라랜드                0.0  0.218557  0.309086  0.128506  \n레옹                  0.0  0.707107  0.000000  0.000000  \n매드 맥스 분노의 도로        0.0  0.707107  1.000000  0.415760  ",
      "text/html": "<div>\n<style scoped>\n    .dataframe tbody tr th:only-of-type {\n        vertical-align: middle;\n    }\n\n    .dataframe tbody tr th {\n        vertical-align: top;\n    }\n\n    .dataframe thead th {\n        text-align: right;\n    }\n</style>\n<table border=\"1\" class=\"dataframe\">\n  <thead>\n    <tr style=\"text-align: right;\">\n      <th>title</th>\n      <th>그린 북</th>\n      <th>노팅 힐</th>\n      <th>라라랜드</th>\n      <th>레옹</th>\n      <th>매드 맥스 분노의 도로</th>\n      <th>매트릭스</th>\n      <th>슬럼독 밀리어네어</th>\n      <th>아이언맨</th>\n      <th>존 윅</th>\n      <th>타이타닉</th>\n    </tr>\n    <tr>\n      <th>title</th>\n      <th></th>\n      <th></th>\n      <th></th>\n      <th></th>\n      <th></th>\n      <th></th>\n      <th></th>\n      <th></th>\n      <th></th>\n      <th></th>\n    </tr>\n  </thead>\n  <tbody>\n    <tr>\n      <th>그린 북</th>\n      <td>1.000000</td>\n      <td>0.000000</td>\n      <td>0.030755</td>\n      <td>0.0</td>\n      <td>0.099504</td>\n      <td>0.000000</td>\n      <td>0.0</td>\n      <td>0.070360</td>\n      <td>0.099504</td>\n      <td>0.041370</td>\n    </tr>\n    <tr>\n      <th>노팅 힐</th>\n      <td>0.000000</td>\n      <td>1.000000</td>\n      <td>0.951034</td>\n      <td>0.0</td>\n      <td>0.000000</td>\n      <td>0.707107</td>\n      <td>0.0</td>\n      <td>0.000000</td>\n      <td>0.000000</td>\n      <td>0.000000</td>\n    </tr>\n    <tr>\n      <th>라라랜드</th>\n      <td>0.030755</td>\n      <td>0.951034</td>\n      <td>1.000000</td>\n      <td>0.0</td>\n      <td>0.309086</td>\n      <td>0.672483</td>\n      <td>0.0</td>\n      <td>0.218557</td>\n      <td>0.309086</td>\n      <td>0.128506</td>\n    </tr>\n    <tr>\n      <th>레옹</th>\n      <td>0.000000</td>\n      <td>0.000000</td>\n      <td>0.000000</td>\n      <td>1.0</td>\n      <td>0.000000</td>\n      <td>0.000000</td>\n      <td>0.0</td>\n      <td>0.707107</td>\n      <td>0.000000</td>\n      <td>0.000000</td>\n    </tr>\n    <tr>\n      <th>매드 맥스 분노의 도로</th>\n      <td>0.099504</td>\n      <td>0.000000</td>\n      <td>0.309086</td>\n      <td>0.0</td>\n      <td>1.000000</td>\n      <td>0.000000</td>\n      <td>0.0</td>\n      <td>0.707107</td>\n      <td>1.000000</td>\n      <td>0.415760</td>\n    </tr>\n  </tbody>\n</table>\n</div>"
     },
     "execution_count": 23,
     "metadata": {},
     "output_type": "execute_result"
    }
   ],
   "source": [
    "#코사인 유사도 측정\n",
    "from sklearn.metrics.pairwise import cosine_similarity\n",
    "item_sim = cosine_similarity(ratings_matrix_T, ratings_matrix_T)\n",
    "item_sim_df = pd.DataFrame(data=item_sim, index=ratings_matrix.columns, columns=ratings_matrix.columns)\n",
    "print(item_sim_df.shape)\n",
    "item_sim_df.head()"
   ],
   "metadata": {
    "collapsed": false
   }
  },
  {
   "cell_type": "code",
   "execution_count": 24,
   "outputs": [],
   "source": [
    "# 추천 영화 DataFrame반환 함수\n",
    "def find_sim_movie_item(df, title_name, top_n=10):\n",
    "    title_movie_sim = df[[title_name]].drop(title_name, axis=0)\n",
    "    return title_movie_sim.sort_values(title_name, ascending=False)[:top_n]"
   ],
   "metadata": {
    "collapsed": false
   }
  },
  {
   "cell_type": "markdown",
   "source": [
    "- 라라랜드 -> top10 추천"
   ],
   "metadata": {
    "collapsed": false
   }
  },
  {
   "cell_type": "code",
   "execution_count": 27,
   "outputs": [
    {
     "data": {
      "text/plain": "title             라라랜드\ntitle                 \n노팅 힐          0.951034\n매트릭스          0.672483\n매드 맥스 분노의 도로  0.309086\n존 윅           0.309086\n아이언맨          0.218557\n타이타닉          0.128506\n그린 북          0.030755\n레옹            0.000000\n슬럼독 밀리어네어     0.000000",
      "text/html": "<div>\n<style scoped>\n    .dataframe tbody tr th:only-of-type {\n        vertical-align: middle;\n    }\n\n    .dataframe tbody tr th {\n        vertical-align: top;\n    }\n\n    .dataframe thead th {\n        text-align: right;\n    }\n</style>\n<table border=\"1\" class=\"dataframe\">\n  <thead>\n    <tr style=\"text-align: right;\">\n      <th>title</th>\n      <th>라라랜드</th>\n    </tr>\n    <tr>\n      <th>title</th>\n      <th></th>\n    </tr>\n  </thead>\n  <tbody>\n    <tr>\n      <th>노팅 힐</th>\n      <td>0.951034</td>\n    </tr>\n    <tr>\n      <th>매트릭스</th>\n      <td>0.672483</td>\n    </tr>\n    <tr>\n      <th>매드 맥스 분노의 도로</th>\n      <td>0.309086</td>\n    </tr>\n    <tr>\n      <th>존 윅</th>\n      <td>0.309086</td>\n    </tr>\n    <tr>\n      <th>아이언맨</th>\n      <td>0.218557</td>\n    </tr>\n    <tr>\n      <th>타이타닉</th>\n      <td>0.128506</td>\n    </tr>\n    <tr>\n      <th>그린 북</th>\n      <td>0.030755</td>\n    </tr>\n    <tr>\n      <th>레옹</th>\n      <td>0.000000</td>\n    </tr>\n    <tr>\n      <th>슬럼독 밀리어네어</th>\n      <td>0.000000</td>\n    </tr>\n  </tbody>\n</table>\n</div>"
     },
     "execution_count": 27,
     "metadata": {},
     "output_type": "execute_result"
    }
   ],
   "source": [
    "find_sim_movie_item(item_sim_df, '라라랜드', 10)"
   ],
   "metadata": {
    "collapsed": false
   }
  },
  {
   "cell_type": "markdown",
   "source": [
    "- 레옹 top10추천"
   ],
   "metadata": {
    "collapsed": false
   }
  },
  {
   "cell_type": "code",
   "execution_count": 28,
   "outputs": [
    {
     "data": {
      "text/plain": "title               레옹\ntitle                 \n아이언맨          0.707107\n그린 북          0.000000\n노팅 힐          0.000000\n라라랜드          0.000000\n매드 맥스 분노의 도로  0.000000\n매트릭스          0.000000\n슬럼독 밀리어네어     0.000000\n존 윅           0.000000\n타이타닉          0.000000",
      "text/html": "<div>\n<style scoped>\n    .dataframe tbody tr th:only-of-type {\n        vertical-align: middle;\n    }\n\n    .dataframe tbody tr th {\n        vertical-align: top;\n    }\n\n    .dataframe thead th {\n        text-align: right;\n    }\n</style>\n<table border=\"1\" class=\"dataframe\">\n  <thead>\n    <tr style=\"text-align: right;\">\n      <th>title</th>\n      <th>레옹</th>\n    </tr>\n    <tr>\n      <th>title</th>\n      <th></th>\n    </tr>\n  </thead>\n  <tbody>\n    <tr>\n      <th>아이언맨</th>\n      <td>0.707107</td>\n    </tr>\n    <tr>\n      <th>그린 북</th>\n      <td>0.000000</td>\n    </tr>\n    <tr>\n      <th>노팅 힐</th>\n      <td>0.000000</td>\n    </tr>\n    <tr>\n      <th>라라랜드</th>\n      <td>0.000000</td>\n    </tr>\n    <tr>\n      <th>매드 맥스 분노의 도로</th>\n      <td>0.000000</td>\n    </tr>\n    <tr>\n      <th>매트릭스</th>\n      <td>0.000000</td>\n    </tr>\n    <tr>\n      <th>슬럼독 밀리어네어</th>\n      <td>0.000000</td>\n    </tr>\n    <tr>\n      <th>존 윅</th>\n      <td>0.000000</td>\n    </tr>\n    <tr>\n      <th>타이타닉</th>\n      <td>0.000000</td>\n    </tr>\n  </tbody>\n</table>\n</div>"
     },
     "execution_count": 28,
     "metadata": {},
     "output_type": "execute_result"
    }
   ],
   "source": [
    "find_sim_movie_item(item_sim_df, '레옹', 10)"
   ],
   "metadata": {
    "collapsed": false
   }
  },
  {
   "cell_type": "markdown",
   "source": [
    "### CF - based KNN 모델 학습\n"
   ],
   "metadata": {
    "collapsed": false
   }
  },
  {
   "cell_type": "code",
   "execution_count": 34,
   "outputs": [
    {
     "name": "stdout",
     "output_type": "stream",
     "text": [
      "Collecting surprise\n",
      "  Downloading surprise-0.1-py2.py3-none-any.whl (1.8 kB)\n",
      "Collecting scikit-surprise\n",
      "  Downloading scikit-surprise-1.1.3.tar.gz (771 kB)\n",
      "     -------------------------------------- 772.0/772.0 kB 8.1 MB/s eta 0:00:00\n",
      "  Preparing metadata (setup.py): started\n",
      "  Preparing metadata (setup.py): finished with status 'done'\n",
      "Requirement already satisfied: joblib>=1.0.0 in c:\\users\\minsu\\anaconda3\\envs\\deeplearning\\lib\\site-packages (from scikit-surprise->surprise) (1.1.1)\n",
      "Requirement already satisfied: numpy>=1.17.3 in c:\\users\\minsu\\anaconda3\\envs\\deeplearning\\lib\\site-packages (from scikit-surprise->surprise) (1.23.5)\n",
      "Requirement already satisfied: scipy>=1.3.2 in c:\\users\\minsu\\anaconda3\\envs\\deeplearning\\lib\\site-packages (from scikit-surprise->surprise) (1.9.3)\n",
      "Building wheels for collected packages: scikit-surprise\n",
      "  Building wheel for scikit-surprise (setup.py): started\n",
      "  Building wheel for scikit-surprise (setup.py): finished with status 'done'\n",
      "  Created wheel for scikit-surprise: filename=scikit_surprise-1.1.3-cp310-cp310-win_amd64.whl size=1083719 sha256=8282d900b3a4c0f133993407c244ab6be4d62811fbff97599eb7600bddb08522\n",
      "  Stored in directory: c:\\users\\minsu\\appdata\\local\\pip\\cache\\wheels\\df\\e4\\a6\\7ad72453dd693f420b0c639bedeec34641738d11b55d8d9b84\n",
      "Successfully built scikit-surprise\n",
      "Installing collected packages: scikit-surprise, surprise\n",
      "Successfully installed scikit-surprise-1.1.3 surprise-0.1\n"
     ]
    }
   ],
   "source": [
    "!pip install surprise"
   ],
   "metadata": {
    "collapsed": false
   }
  },
  {
   "cell_type": "code",
   "execution_count": 35,
   "outputs": [],
   "source": [
    "from surprise import Dataset, Reader\n",
    "from surprise.model_selection import train_test_split\n",
    "\n",
    "reader = Reader(rating_scale=(1, 5))\n",
    "data = Dataset.load_from_df(ratings[[\"user_id\", \"movie_id\", \"rating\"]], reader)\n",
    "trainset, testset = train_test_split(data, test_size=0.25)"
   ],
   "metadata": {
    "collapsed": false
   }
  },
  {
   "cell_type": "code",
   "execution_count": 36,
   "outputs": [
    {
     "name": "stdout",
     "output_type": "stream",
     "text": [
      "Computing the cosine similarity matrix...\n",
      "Done computing similarity matrix.\n",
      "RMSE: 1.7077\n"
     ]
    },
    {
     "data": {
      "text/plain": "1.7076828622485771"
     },
     "execution_count": 36,
     "metadata": {},
     "output_type": "execute_result"
    }
   ],
   "source": [
    "from surprise import KNNBasic\n",
    "algo = KNNBasic(k=3, min_k=1, sim_options={'user_based': True, \"name\": \"cosine\"})\n",
    "algo.fit(trainset)\n",
    "predictions = algo.test(testset)\n",
    "\n",
    "from surprise import accuracy\n",
    "acc = accuracy.rmse(predictions)\n",
    "acc"
   ],
   "metadata": {
    "collapsed": false
   }
  },
  {
   "cell_type": "code",
   "execution_count": 37,
   "outputs": [
    {
     "data": {
      "text/plain": "[Prediction(uid=18, iid=11, r_ui=3.5, est=2.2142857142857144, details={'was_impossible': True, 'reason': 'User and/or item is unknown.'}),\n Prediction(uid=1, iid=1, r_ui=0.5, est=2.0, details={'actual_k': 3, 'was_impossible': False}),\n Prediction(uid=1, iid=20, r_ui=3.0, est=2.5, details={'actual_k': 3, 'was_impossible': False}),\n Prediction(uid=1, iid=20, r_ui=0.5, est=2.5, details={'actual_k': 3, 'was_impossible': False}),\n Prediction(uid=9, iid=7, r_ui=5.0, est=2.2142857142857144, details={'was_impossible': True, 'reason': 'User and/or item is unknown.'})]"
     },
     "execution_count": 37,
     "metadata": {},
     "output_type": "execute_result"
    }
   ],
   "source": [
    "predictions[:5]"
   ],
   "metadata": {
    "collapsed": false
   }
  },
  {
   "cell_type": "markdown",
   "source": [
    "### MF - based (SVD)모델 학습"
   ],
   "metadata": {
    "collapsed": false
   }
  },
  {
   "cell_type": "code",
   "execution_count": 39,
   "outputs": [
    {
     "name": "stdout",
     "output_type": "stream",
     "text": [
      "training time of model: 0.00 seconds\n",
      "RMSE of test dataset in SVD model, n_factors=10\n",
      "MSE: 2.6548\n",
      "--------------------\n",
      "training time of model: 0.00 seconds\n",
      "RMSE of test dataset in SVD model, n_factors=50\n",
      "MSE: 2.6486\n",
      "--------------------\n",
      "training time of model: 0.00 seconds\n",
      "RMSE of test dataset in SVD model, n_factors=100\n",
      "MSE: 2.6650\n",
      "--------------------\n",
      "training time of model: 0.00 seconds\n",
      "RMSE of test dataset in SVD model, n_factors=150\n",
      "MSE: 2.7010\n",
      "--------------------\n",
      "training time of model: 0.00 seconds\n",
      "RMSE of test dataset in SVD model, n_factors=200\n",
      "MSE: 2.7780\n",
      "--------------------\n",
      "searching n_factors is finish.\n"
     ]
    }
   ],
   "source": [
    "from surprise import SVD\n",
    "\n",
    "param_list = [10, 50, 100, 150, 200]\n",
    "rmse_list_by_factors = []\n",
    "ttime_list_by_factors = []\n",
    "import time\n",
    "# n_factor depth에 따른 RMSE 확인\n",
    "for n in param_list:\n",
    "    train_start = time.time()\n",
    "    algo = SVD(n_factors=n)\n",
    "    algo.fit(trainset)\n",
    "    train_end = time.time()\n",
    "    print(\"training time of model: %.2f seconds\" % (train_end-train_start))\n",
    "    print(f\"RMSE of test dataset in SVD model, n_factors={n}\")\n",
    "\n",
    "    predictions = algo.test(testset)\n",
    "    rmse_list_by_factors.append(accuracy.mse(predictions))\n",
    "    ttime_list_by_factors.append(train_end-train_start)\n",
    "    print(\"-\"*20)\n",
    "print(\"searching n_factors is finish.\")"
   ],
   "metadata": {
    "collapsed": false
   }
  },
  {
   "cell_type": "code",
   "execution_count": 40,
   "outputs": [
    {
     "data": {
      "text/plain": "<Figure size 640x480 with 1 Axes>",
      "image/png": "[encoded data removed]"
     },
     "metadata": {},
     "output_type": "display_data"
    }
   ],
   "source": [
    "import matplotlib.pyplot as plt\n",
    "plt.plot(param_list, rmse_list_by_factors)\n",
    "plt.title(\"RMSE by n_factors of SVD\", fontsize=14)\n",
    "plt.xticks(param_list)\n",
    "plt.xlabel(\"n_factors\", fontsize=12)\n",
    "plt.ylabel(\"RMSE\", fontsize=12)\n",
    "for x, y in zip(param_list, rmse_list_by_factors):\n",
    "    plt.annotate(f'{round(y,4)}', xy=(x+15,y), textcoords=\"data\", ha=\"center\")"
   ],
   "metadata": {
    "collapsed": false
   }
  },
  {
   "cell_type": "code",
   "execution_count": 41,
   "outputs": [
    {
     "name": "stdout",
     "output_type": "stream",
     "text": [
      "RMSE: 1.6346\n"
     ]
    },
    {
     "data": {
      "text/plain": "1.6346055225361116"
     },
     "execution_count": 41,
     "metadata": {},
     "output_type": "execute_result"
    }
   ],
   "source": [
    "# n_factor = 50일 때 최소가 됨을 알 수 있다.\n",
    "algo = SVD(n_factors=50)\n",
    "algo.fit(trainset)\n",
    "predictions = algo.test(testset)\n",
    "acc = accuracy.rmse(predictions)\n",
    "acc"
   ],
   "metadata": {
    "collapsed": false
   }
  },
  {
   "cell_type": "code",
   "execution_count": 44,
   "outputs": [
    {
     "ename": "NameError",
     "evalue": "name 'train_data' is not defined",
     "output_type": "error",
     "traceback": [
      "\u001B[1;31m---------------------------------------------------------------------------\u001B[0m",
      "\u001B[1;31mNameError\u001B[0m                                 Traceback (most recent call last)",
      "Cell \u001B[1;32mIn[44], line 2\u001B[0m\n\u001B[0;32m      1\u001B[0m \u001B[38;5;66;03m# 예측할 부분 (rating이 없는) 데이터만 추출\u001B[39;00m\n\u001B[1;32m----> 2\u001B[0m test_data \u001B[38;5;241m=\u001B[39m \u001B[43mtrain_data\u001B[49m\u001B[38;5;241m.\u001B[39mbuild_anti_testset()\n\u001B[0;32m      4\u001B[0m \u001B[38;5;66;03m# test \u001B[39;00m\n\u001B[0;32m      5\u001B[0m predictions \u001B[38;5;241m=\u001B[39m algo\u001B[38;5;241m.\u001B[39mtest(testset)\n",
      "\u001B[1;31mNameError\u001B[0m: name 'train_data' is not defined"
     ]
    }
   ],
   "source": [
    "# 예측할 부분 (rating이 없는) 데이터만 추출\n",
    "test_data = train_data.build_anti_testset()\n",
    "\n",
    "# test\n",
    "predictions = algo.test(testset)\n",
    "\n",
    "\n",
    "predictions = algo.test(test_data)\n",
    "\n",
    "# test 평가를 위해 시청하지 않은 영화의 예상 점수를 dictionary 형태로 추출\n",
    "estimated_unwatched_dict = {}\n",
    "\n",
    "for uid, iid, _, predicted_rating, _ in predictions:\n",
    "    if uid in estimated_unwatched_dict:\n",
    "        estimated_unwatched_dict[uid].append((iid, predicted_rating))\n",
    "    else:\n",
    "        estimated_unwatched_dict[uid] = [(iid, predicted_rating)]"
   ],
   "metadata": {
    "collapsed": false
   }
  },
  {
   "cell_type": "code",
   "execution_count": 42,
   "outputs": [],
   "source": [
    "def get_map_topk(k):\n",
    "    user_metric = []\n",
    "    for user in estimated_unwatched_dict:\n",
    "        estimated_list = estimated_unwatched_dict[user].copy()\n",
    "        estimated_list.sort(key=lambda tup: tup[1], reverse=True)\n",
    "        try:\n",
    "            top_k_prefer_list = [movie[0] for movie in estimated_list[:k]]\n",
    "            actual_watch_list = user_watch_dict_list_test[user_watch_dict_list_test.index==user].values.tolist()[0]\n",
    "            user_metric.append((user, top_k_prefer_list, actual_watch_list))\n",
    "        except:\n",
    "            pass\n",
    "\n",
    "    # MAP: 유저들의 precision 평균으로 구함\n",
    "    precision_list = []\n",
    "    for user in user_metric:\n",
    "        predictive_values = user[1]\n",
    "        actual_values = set(user[2])\n",
    "        tp = [pv for pv in predictive_values if pv in actual_values]\n",
    "        precision = len(tp) / len(predictive_values)\n",
    "        precision_list.append(precision)\n",
    "    return sum(precision_list) / len(precision_list)"
   ],
   "metadata": {
    "collapsed": false
   }
  },
  {
   "cell_type": "code",
   "execution_count": 43,
   "outputs": [
    {
     "ename": "NameError",
     "evalue": "name 'estimated_unwatched_dict' is not defined",
     "output_type": "error",
     "traceback": [
      "\u001B[1;31m---------------------------------------------------------------------------\u001B[0m",
      "\u001B[1;31mNameError\u001B[0m                                 Traceback (most recent call last)",
      "Cell \u001B[1;32mIn[43], line 4\u001B[0m\n\u001B[0;32m      2\u001B[0m map_list \u001B[38;5;241m=\u001B[39m []\n\u001B[0;32m      3\u001B[0m \u001B[38;5;28;01mfor\u001B[39;00m k \u001B[38;5;129;01min\u001B[39;00m k_param_list:\n\u001B[1;32m----> 4\u001B[0m     map_list\u001B[38;5;241m.\u001B[39mappend(\u001B[43mget_map_topk\u001B[49m\u001B[43m(\u001B[49m\u001B[43mk\u001B[49m\u001B[43m)\u001B[49m)\n\u001B[0;32m      6\u001B[0m plt\u001B[38;5;241m.\u001B[39mplot(k_param_list, map_list)\n\u001B[0;32m      7\u001B[0m plt\u001B[38;5;241m.\u001B[39mtitle(\u001B[38;5;124m'\u001B[39m\u001B[38;5;124mMAP by top k recommendation\u001B[39m\u001B[38;5;124m'\u001B[39m)\n",
      "Cell \u001B[1;32mIn[42], line 3\u001B[0m, in \u001B[0;36mget_map_topk\u001B[1;34m(k)\u001B[0m\n\u001B[0;32m      1\u001B[0m \u001B[38;5;28;01mdef\u001B[39;00m \u001B[38;5;21mget_map_topk\u001B[39m(k):\n\u001B[0;32m      2\u001B[0m     user_metric \u001B[38;5;241m=\u001B[39m []\n\u001B[1;32m----> 3\u001B[0m     \u001B[38;5;28;01mfor\u001B[39;00m user \u001B[38;5;129;01min\u001B[39;00m \u001B[43mestimated_unwatched_dict\u001B[49m:\n\u001B[0;32m      4\u001B[0m         estimated_list \u001B[38;5;241m=\u001B[39m estimated_unwatched_dict[user]\u001B[38;5;241m.\u001B[39mcopy()\n\u001B[0;32m      5\u001B[0m         estimated_list\u001B[38;5;241m.\u001B[39msort(key\u001B[38;5;241m=\u001B[39m\u001B[38;5;28;01mlambda\u001B[39;00m tup: tup[\u001B[38;5;241m1\u001B[39m], reverse\u001B[38;5;241m=\u001B[39m\u001B[38;5;28;01mTrue\u001B[39;00m)\n",
      "\u001B[1;31mNameError\u001B[0m: name 'estimated_unwatched_dict' is not defined"
     ]
    }
   ],
   "source": [
    "k_param_list = range(1,30)\n",
    "map_list = []\n",
    "for k in k_param_list:\n",
    "    map_list.append(get_map_topk(k))\n",
    "\n",
    "plt.plot(k_param_list, map_list)\n",
    "plt.title('MAP by top k recommendation')\n",
    "plt.ylabel('MAP', fontsize=12)\n",
    "plt.xlabel('k', fontsize=12)\n",
    "plt.show()"
   ],
   "metadata": {
    "collapsed": false
   }
  },
  {
   "cell_type": "code",
   "execution_count": null,
   "outputs": [],
   "source": [],
   "metadata": {
    "collapsed": false
   }
  }
 ],
 "metadata": {
  "kernelspec": {
   "display_name": "Python 3",
   "language": "python",
   "name": "python3"
  },
  "language_info": {
   "codemirror_mode": {
    "name": "ipython",
    "version": 2
   },
   "file_extension": ".py",
   "mimetype": "text/x-python",
   "name": "python",
   "nbconvert_exporter": "python",
   "pygments_lexer": "ipython2",
   "version": "2.7.6"
  }
 },
 "nbformat": 4,
 "nbformat_minor": 0
}
